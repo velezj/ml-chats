{
 "cells": [
  {
   "cell_type": "markdown",
   "metadata": {},
   "source": [
    "# Initial setup"
   ]
  },
  {
   "cell_type": "code",
   "execution_count": 10,
   "metadata": {
    "collapsed": true
   },
   "outputs": [],
   "source": [
    "## Setup the path for our codebase\n",
    "import sys\n",
    "sys.path.append( '../code/' )"
   ]
  },
  {
   "cell_type": "code",
   "execution_count": 12,
   "metadata": {
    "collapsed": false
   },
   "outputs": [],
   "source": [
    "## import our time_series codebase\n",
    "import time_series.generated_datasets\n",
    "import time_series.result_set\n",
    "import time_series.algorithm"
   ]
  },
  {
   "cell_type": "code",
   "execution_count": 17,
   "metadata": {
    "collapsed": false
   },
   "outputs": [],
   "source": [
    "dataset_0 = time_series.generated_datasets.DSS[0]( 10 )"
   ]
  },
  {
   "cell_type": "code",
   "execution_count": 18,
   "metadata": {
    "collapsed": true
   },
   "outputs": [],
   "source": [
    "%matplotlib inline\n",
    "import matplotlib.pyplot as plt"
   ]
  },
  {
   "cell_type": "code",
   "execution_count": 19,
   "metadata": {
    "collapsed": false
   },
   "outputs": [
    {
     "data": {
      "image/png": "[encoded data removed]",
      "text/plain": [
       "<matplotlib.figure.Figure at 0x10933d750>"
      ]
     },
     "metadata": {},
     "output_type": "display_data"
    }
   ],
   "source": [
    "time_series.generated_datasets.plot_dataset( dataset_0 )"
   ]
  },
  {
   "cell_type": "markdown",
   "metadata": {},
   "source": [
    "# Ploynomial Least-Squares Fit Algorithm"
   ]
  },
  {
   "cell_type": "code",
   "execution_count": 20,
   "metadata": {
    "collapsed": true
   },
   "outputs": [],
   "source": [
    "## import numpy for polyfit\n",
    "import numpy as np"
   ]
  },
  {
   "cell_type": "code",
   "execution_count": 36,
   "metadata": {
    "collapsed": true
   },
   "outputs": [],
   "source": [
    "##\n",
    "# Define a new algorithm for a polynomial least-squares fit\n",
    "class PolyFitAlg( time_series.algorithm.AlertAlgorithm):\n",
    "    def __init__(self, order):\n",
    "        self.order = order\n",
    "        time_series.algorithm.AlertAlgorithm.__init__( self, \"Polyfit[{0}]\".format(order) )\n",
    "    def __call__( self, target, history ):\n",
    "        # fit the polynomail to history\n",
    "        n = len(history)\n",
    "        poly = np.poly1d( np.polyfit( xrange(n), history, self.order ) )\n",
    "        expected = poly(n)\n",
    "        difference = abs(target - expected)\n",
    "        if target != 0:\n",
    "            fraction = difference / abs(target)\n",
    "        else:\n",
    "            # Assume target is actuall 1, so absolute difference instead of fraction\n",
    "            fraction = difference\n",
    "        result = {\n",
    "            'target' : target,\n",
    "            'expected' : expected,\n",
    "            'order' : self.order,\n",
    "            'difference' : difference,\n",
    "            'fraction' : fraction,\n",
    "            'poly' : poly,\n",
    "        }\n",
    "        return fraction, result"
   ]
  },
  {
   "cell_type": "code",
   "execution_count": 37,
   "metadata": {
    "collapsed": false
   },
   "outputs": [],
   "source": [
    "alg_pf = PolyFitAlg( 4 )\n",
    "frac, res = alg_pf( 10.0, xrange(10) )\n"
   ]
  },
  {
   "cell_type": "code",
   "execution_count": 38,
   "metadata": {
    "collapsed": false
   },
   "outputs": [
    {
     "data": {
      "text/plain": [
       "{'difference': 7.1054273576010019e-15,\n",
       " 'expected': 10.000000000000007,\n",
       " 'fraction': 7.1054273576010023e-16,\n",
       " 'order': 4,\n",
       " 'poly': poly1d([  1.44304281e-17,  -2.37052649e-16,   1.12971061e-15,\n",
       "          1.00000000e+00,  -7.02166694e-16]),\n",
       " 'target': 10.0}"
      ]
     },
     "execution_count": 38,
     "metadata": {},
     "output_type": "execute_result"
    }
   ],
   "source": [
    "res"
   ]
  },
  {
   "cell_type": "code",
   "execution_count": 40,
   "metadata": {
    "collapsed": false
   },
   "outputs": [
    {
     "data": {
      "text/plain": [
       "[<matplotlib.lines.Line2D at 0x1094c5d10>]"
      ]
     },
     "execution_count": 40,
     "metadata": {},
     "output_type": "execute_result"
    },
    {
     "data": {
      "image/png": "[encoded data removed]",
      "text/plain": [
       "<matplotlib.figure.Figure at 0x1094d3810>"
      ]
     },
     "metadata": {},
     "output_type": "display_data"
    }
   ],
   "source": [
    "plt.plot( xrange(13), res['poly']( xrange(13) ))"
   ]
  },
  {
   "cell_type": "code",
   "execution_count": 44,
   "metadata": {
    "collapsed": false
   },
   "outputs": [
    {
     "data": {
      "text/plain": [
       "{'difference': 10154.187259252602,\n",
       " 'expected': 10154.187259252602,\n",
       " 'fraction': 10154.187259252602,\n",
       " 'order': 4,\n",
       " 'poly': poly1d([ -3.02650746e-02,   1.06285382e+00,  -1.07306833e+01,\n",
       "          6.08969483e+01,   9.89904879e+03]),\n",
       " 'target': 0.0}"
      ]
     },
     "execution_count": 44,
     "metadata": {},
     "output_type": "execute_result"
    }
   ],
   "source": [
    "frac,res = alg_pf( dataset_0.time_series[-1], dataset_0.time_series[:-1] )\n",
    "res"
   ]
  },
  {
   "cell_type": "code",
   "execution_count": 47,
   "metadata": {
    "collapsed": false
   },
   "outputs": [
    {
     "data": {
      "text/plain": [
       "[<matplotlib.lines.Line2D at 0x109a02f50>]"
      ]
     },
     "execution_count": 47,
     "metadata": {},
     "output_type": "execute_result"
    },
    {
     "data": {
      "image/png": "[encoded data removed]",
      "text/plain": [
       "<matplotlib.figure.Figure at 0x109a4af50>"
      ]
     },
     "metadata": {},
     "output_type": "display_data"
    }
   ],
   "source": [
    "n = len(dataset_0.time_series)\n",
    "plt.plot( xrange(n), res['poly']( xrange(n)) )\n",
    "plt.hold( True )\n",
    "plt.plot( xrange(n-1), dataset_0.time_series[:-1], 'r.' )"
   ]
  },
  {
   "cell_type": "code",
   "execution_count": 48,
   "metadata": {
    "collapsed": false
   },
   "outputs": [
    {
     "data": {
      "text/plain": [
       "[\"Dset{ non-periodic, non-trend, 10000.0, 100.0 noise = ['Norm(0.0,100.0)']( Constant[10000.0](1.0*t+0) ) }\",\n",
       " 'Induced[Set(0.0 @ 1.0, 1.0 )]']"
      ]
     },
     "execution_count": 48,
     "metadata": {},
     "output_type": "execute_result"
    }
   ],
   "source": [
    "dataset_0.taxonomy"
   ]
  },
  {
   "cell_type": "code",
   "execution_count": 49,
   "metadata": {
    "collapsed": false
   },
   "outputs": [
    {
     "data": {
      "text/plain": [
       "[<matplotlib.lines.Line2D at 0x109a020d0>]"
      ]
     },
     "execution_count": 49,
     "metadata": {},
     "output_type": "execute_result"
    },
    {
     "data": {
      "image/png": "[encoded data removed]",
      "text/plain": [
       "<matplotlib.figure.Figure at 0x10975d450>"
      ]
     },
     "metadata": {},
     "output_type": "display_data"
    }
   ],
   "source": [
    "n = len(dataset_0.time_series)\n",
    "plt.plot( xrange(n), res['poly']( xrange(n)) )\n",
    "plt.hold( True )\n",
    "plt.plot( xrange(n), dataset_0.time_series, 'r.' )"
   ]
  },
  {
   "cell_type": "code",
   "execution_count": 61,
   "metadata": {
    "collapsed": false
   },
   "outputs": [
    {
     "data": {
      "text/plain": [
       "[<matplotlib.lines.Line2D at 0x10ad5a8d0>]"
      ]
     },
     "execution_count": 61,
     "metadata": {},
     "output_type": "execute_result"
    },
    {
     "data": {
      "image/png": "[encoded data removed]",
      "text/plain": [
       "<matplotlib.figure.Figure at 0x10af3a250>"
      ]
     },
     "metadata": {},
     "output_type": "display_data"
    },
    {
     "data": {
      "image/png": "[encoded data removed]",
      "text/plain": [
       "<matplotlib.figure.Figure at 0x10b66fb50>"
      ]
     },
     "metadata": {},
     "output_type": "display_data"
    }
   ],
   "source": [
    "alg_pf8 = PolyFitAlg( 8 )\n",
    "frac8,res8 = alg_pf8( dataset_0.time_series[-1], dataset_0.time_series[:-1] )\n",
    "n = len(dataset_0.time_series)\n",
    "plt.figure()\n",
    "plt.plot( xrange(n-1), res8['poly']( xrange(n-1)) )\n",
    "plt.hold( True )\n",
    "plt.plot( xrange(n-1), dataset_0.time_series[:-1], 'r.', ms=10 )\n",
    "plt.figure()\n",
    "plt.plot( xrange(n + 2), res8['poly']( xrange(n + 2)) )\n",
    "plt.hold( True )\n",
    "plt.plot( xrange(n), dataset_0.time_series, 'r.', ms=10 )"
   ]
  },
  {
   "cell_type": "markdown",
   "metadata": {},
   "source": [
    "# Mean-Square Error as Measure of Fit"
   ]
  },
  {
   "cell_type": "code",
   "execution_count": 62,
   "metadata": {
    "collapsed": true
   },
   "outputs": [],
   "source": [
    "## compute the mean squared error for a history and a PolyFit algorithm\n",
    "def polyfit_mse( alg, history ):\n",
    "    # first fit the algorithm with a dummy target\n",
    "    frac, res = alg( history[-1], history )\n",
    "    \n",
    "    # ok, grab polynomial from fit and compute errors\n",
    "    poly = res['poly']\n",
    "    x = xrange(len(history))\n",
    "    errors = np.array(history) - poly(x)\n",
    "    \n",
    "    # compute mean squared error\n",
    "    mse = np.mean( errors * errors.transpose() )\n",
    "    return mse"
   ]
  },
  {
   "cell_type": "code",
   "execution_count": 64,
   "metadata": {
    "collapsed": false
   },
   "outputs": [
    {
     "name": "stdout",
     "output_type": "stream",
     "text": [
      "order 4 MSE: 5192.24159236\n",
      "order 8 MSE: 8.60447610975e-19\n"
     ]
    }
   ],
   "source": [
    "mse_pf4 = polyfit_mse( alg_pf, dataset_0.time_series[:-1] )\n",
    "mse_pf8 = polyfit_mse( alg_pf8, dataset_0.time_series[:-1] )\n",
    "print \"order 4 MSE: {0}\".format( mse_pf4 )\n",
    "print \"order 8 MSE: {0}\".format( mse_pf8 )"
   ]
  },
  {
   "cell_type": "markdown",
   "metadata": {},
   "source": [
    "# Best Historical MSE = Best Future Performance?"
   ]
  },
  {
   "cell_type": "code",
   "execution_count": 74,
   "metadata": {
    "collapsed": false
   },
   "outputs": [
    {
     "name": "stdout",
     "output_type": "stream",
     "text": [
      "order 4 stats: {'tn': 45.0, 'fp': 0.0, 'fn': 0.0, 'recall': 1.0, 'fall_out': 0.0, 'precision': 1.0, 'tp': 5.0, 'accuracy': 1.0}\n",
      "order 8 stats: {'tn': 42.0, 'fp': 3.0, 'fn': 0.0, 'recall': 1.0, 'fall_out': 0.06666666666666667, 'precision': 0.625, 'tp': 5.0, 'accuracy': 0.94}\n"
     ]
    }
   ],
   "source": [
    "run_spec_pf4 = time_series.result_set.RunSpec( time_series.generated_datasets.DSS[0], alg_pf)\n",
    "run_spec_pf8 = time_series.result_set.RunSpec( time_series.generated_datasets.DSS[0], alg_pf8)\n",
    "rset_pf4 = run_spec_pf4.collect_results( 20, 5, 9 )\n",
    "rset_pf8 = run_spec_pf8.collect_results( 20, 5, 9 )\n",
    "stats_pf4 = time_series.result_set.compute_classifier_stats( rset_pf4, 0.5 )\n",
    "stats_pf8 = time_series.result_set.compute_classifier_stats( rset_pf8, 0.5 )\n",
    "print \"order 4 stats: {0}\".format( stats_pf4 )\n",
    "print \"order 8 stats: {0}\".format( stats_pf8 )"
   ]
  },
  {
   "cell_type": "markdown",
   "metadata": {},
   "source": [
    "# Overfitting!\n",
    "So what now?  This is where we use all of the methods for preventing overfitting:\n",
    "  - Cross-validation based model selection\n",
    "  - AIC/BIC all those information criteria which weight model fit versus moder complexity\n",
    "  - Algorithm Stability ( stability == generalizability )\n",
    "  - Statistical Learning Theory to learn using Structures (Structure Learning Theory)\n",
    "  - Choose a better performance criteria than historical fit"
   ]
  },
  {
   "cell_type": "code",
   "execution_count": null,
   "metadata": {
    "collapsed": true
   },
   "outputs": [],
   "source": []
  }
 ],
 "metadata": {
  "kernelspec": {
   "display_name": "Python 2",
   "language": "python",
   "name": "python2"
  },
  "language_info": {
   "codemirror_mode": {
    "name": "ipython",
    "version": 2
   },
   "file_extension": ".py",
   "mimetype": "text/x-python",
   "name": "python",
   "nbconvert_exporter": "python",
   "pygments_lexer": "ipython2",
   "version": "2.7.9"
  }
 },
 "nbformat": 4,
 "nbformat_minor": 0
}
